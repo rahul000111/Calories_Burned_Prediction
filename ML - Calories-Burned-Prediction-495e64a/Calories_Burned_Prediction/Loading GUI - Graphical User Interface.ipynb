{
 "cells": [
  {
   "cell_type": "markdown",
   "id": "37d6876e",
   "metadata": {},
   "source": [
    "# GUI"
   ]
  },
  {
   "cell_type": "code",
   "execution_count": 1,
   "id": "80f500b4",
   "metadata": {},
   "outputs": [],
   "source": [
    "import tkinter as tk\n",
    "from tkinter import messagebox\n",
    "import joblib"
   ]
  },
  {
   "cell_type": "markdown",
   "id": "3157c527",
   "metadata": {},
   "source": [
    "# Load the model"
   ]
  },
  {
   "cell_type": "code",
   "execution_count": 2,
   "id": "15910806",
   "metadata": {},
   "outputs": [],
   "source": [
    "model = joblib.load('saved_model_Random_Forest_Regressor.pkl')"
   ]
  },
  {
   "cell_type": "markdown",
   "id": "57643f82",
   "metadata": {},
   "source": [
    "**Graphical User Interface Pop-up**"
   ]
  },
  {
   "cell_type": "code",
   "execution_count": 3,
   "id": "56354c1d",
   "metadata": {},
   "outputs": [
    {
     "name": "stderr",
     "output_type": "stream",
     "text": [
      "C:\\Users\\derah\\anaconda3\\Lib\\site-packages\\sklearn\\base.py:464: UserWarning: X does not have valid feature names, but RandomForestRegressor was fitted with feature names\n",
      "  warnings.warn(\n"
     ]
    }
   ],
   "source": [
    "def predict():\n",
    "    try:\n",
    "        # Retrieve input values from the GUI\n",
    "        gender = gender_var.get()  # Get the selected value from the dropdown\n",
    "        age = int(age_entry.get())\n",
    "        height = float(height_entry.get())\n",
    "        weight = float(weight_entry.get())\n",
    "        duration = float(duration_entry.get())\n",
    "        heart_rate = float(heart_rate_entry.get())\n",
    "        body_temp = float(body_temp_entry.get())\n",
    "        \n",
    "        # Prepare the input data for prediction\n",
    "        # Ensure the gender variable is handled correctly by your model\n",
    "        # For instance, if your model expects numerical encoding, convert gender to numerical value\n",
    "        gender_encoded = 1 if gender == 'Male' else 0\n",
    "        input_data = [[gender_encoded, age, height, weight, duration, heart_rate, body_temp]]\n",
    "        \n",
    "        # Make the prediction\n",
    "        prediction = model.predict(input_data)\n",
    "        \n",
    "        # Display the prediction\n",
    "        messagebox.showinfo(\"Prediction\", f\"Calories Burnt: {prediction[0]}\")\n",
    "    except Exception as e:\n",
    "        messagebox.showerror(\"Error\", f\"An error occurred: {e}\")\n",
    "\n",
    "# Set up the GUI\n",
    "root = tk.Tk()\n",
    "root.title(\"Calorie Burnt Predictor\")\n",
    "\n",
    "# Add GUI elements (e.g., Entry widgets, Labels)\n",
    "tk.Label(root, text=\"Gender:\").pack()\n",
    "gender_var = tk.StringVar(value='Male')  # Default value\n",
    "gender_dropdown = tk.OptionMenu(root, gender_var, 'Male', 'Female')  # Add more options if needed\n",
    "gender_dropdown.pack()\n",
    "\n",
    "tk.Label(root, text=\"Age:\").pack()\n",
    "age_entry = tk.Entry(root)\n",
    "age_entry.pack()\n",
    "\n",
    "tk.Label(root, text=\"Height (cm):\").pack()\n",
    "height_entry = tk.Entry(root)\n",
    "height_entry.pack()\n",
    "\n",
    "tk.Label(root, text=\"Weight (kg):\").pack()\n",
    "weight_entry = tk.Entry(root)\n",
    "weight_entry.pack()\n",
    "\n",
    "tk.Label(root, text=\"Duration (mins):\").pack()\n",
    "duration_entry = tk.Entry(root)\n",
    "duration_entry.pack()\n",
    "\n",
    "tk.Label(root, text=\"Heart Rate:\").pack()\n",
    "heart_rate_entry = tk.Entry(root)\n",
    "heart_rate_entry.pack()\n",
    "\n",
    "tk.Label(root, text=\"Body Temperature:\").pack()\n",
    "body_temp_entry = tk.Entry(root)\n",
    "body_temp_entry.pack()\n",
    "\n",
    "predict_button = tk.Button(root, text=\"Predict\", command=predict)\n",
    "predict_button.pack()\n",
    "\n",
    "root.mainloop()\n"
   ]
  }
 ],
 "metadata": {
  "kernelspec": {
   "display_name": "Python 3 (ipykernel)",
   "language": "python",
   "name": "python3"
  },
  "language_info": {
   "codemirror_mode": {
    "name": "ipython",
    "version": 3
   },
   "file_extension": ".py",
   "mimetype": "text/x-python",
   "name": "python",
   "nbconvert_exporter": "python",
   "pygments_lexer": "ipython3",
   "version": "3.11.5"
  }
 },
 "nbformat": 4,
 "nbformat_minor": 5
}
